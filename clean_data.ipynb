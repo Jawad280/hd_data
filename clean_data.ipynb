{
 "cells": [
  {
   "cell_type": "code",
   "execution_count": 1,
   "metadata": {},
   "outputs": [],
   "source": [
    "import pandas as pd\n",
    "import numpy as np"
   ]
  },
  {
   "cell_type": "code",
   "execution_count": 2,
   "metadata": {},
   "outputs": [],
   "source": [
    "df_part_1 = pd.read_excel('azure-export-2024-10-07-15-00-13-part-1.xlsx')\n",
    "df_part_2 = pd.read_excel('azure-export-2024-10-07-15-01-27-part-2.xlsx')\n",
    "\n",
    "df = pd.concat([df_part_1, df_part_2])"
   ]
  },
  {
   "cell_type": "code",
   "execution_count": 3,
   "metadata": {},
   "outputs": [
    {
     "data": {
      "text/plain": [
       "(20788, 37)"
      ]
     },
     "execution_count": 3,
     "metadata": {},
     "output_type": "execute_result"
    }
   ],
   "source": [
    "df.shape"
   ]
  },
  {
   "cell_type": "code",
   "execution_count": null,
   "metadata": {},
   "outputs": [],
   "source": []
  },
  {
   "cell_type": "code",
   "execution_count": 4,
   "metadata": {},
   "outputs": [
    {
     "data": {
      "text/plain": [
       "Index(['Name', 'Package Picture', 'URL',\n",
       "       'P3, Cash Discount, Installment/month', 'Installment Limit',\n",
       "       'Price to Reserve for This Package', 'Shop Name', 'Category',\n",
       "       'Category Tags', 'Preview 1-10', 'Selling Point', 'Meta Keywords',\n",
       "       'Brand', 'Min/Max Age',\n",
       "       'Locations, Time Open/Close, How to Transport, Parking, Google Maps',\n",
       "       'Meta Description', 'Price Details', 'Package Details',\n",
       "       'Important Info', 'Payment Booking Info', 'General Info',\n",
       "       'Early Signs for Diagnosis', 'How to Diagnose', 'HDCare Summary',\n",
       "       'Common Question', 'Know This Disease', 'Courses of Action',\n",
       "       'Signals to Proceed Surgery', 'Get to Know This Surgery', 'Comparisons',\n",
       "       'Getting Ready', 'Recovery', 'Side Effects', 'Review 4-5 Stars',\n",
       "       'Brand Option in Thai Name', 'Brand Ranking (Position)', 'FAQ'],\n",
       "      dtype='object')"
      ]
     },
     "execution_count": 4,
     "metadata": {},
     "output_type": "execute_result"
    }
   ],
   "source": [
    "df.columns"
   ]
  },
  {
   "cell_type": "code",
   "execution_count": 5,
   "metadata": {},
   "outputs": [
    {
     "data": {
      "text/plain": [
       "0    P3: 969 THB, Cash: 969.0 THB, Installment/mont...\n",
       "0    P3: 570 THB, Cash: 570.0 THB, Installment/mont...\n",
       "Name: P3, Cash Discount, Installment/month, dtype: object"
      ]
     },
     "execution_count": 5,
     "metadata": {},
     "output_type": "execute_result"
    }
   ],
   "source": [
    "df['P3, Cash Discount, Installment/month'][0]"
   ]
  },
  {
   "cell_type": "code",
   "execution_count": 6,
   "metadata": {},
   "outputs": [
    {
     "data": {
      "text/html": [
       "<div>\n",
       "<style scoped>\n",
       "    .dataframe tbody tr th:only-of-type {\n",
       "        vertical-align: middle;\n",
       "    }\n",
       "\n",
       "    .dataframe tbody tr th {\n",
       "        vertical-align: top;\n",
       "    }\n",
       "\n",
       "    .dataframe thead th {\n",
       "        text-align: right;\n",
       "    }\n",
       "</style>\n",
       "<table border=\"1\" class=\"dataframe\">\n",
       "  <thead>\n",
       "    <tr style=\"text-align: right;\">\n",
       "      <th></th>\n",
       "      <th>P3</th>\n",
       "      <th>Cash Discount</th>\n",
       "      <th>Installment/month</th>\n",
       "      <th>Price After Cash Discount</th>\n",
       "    </tr>\n",
       "  </thead>\n",
       "  <tbody>\n",
       "    <tr>\n",
       "      <th>0</th>\n",
       "      <td>969</td>\n",
       "      <td>0</td>\n",
       "      <td>N/A</td>\n",
       "      <td>969</td>\n",
       "    </tr>\n",
       "    <tr>\n",
       "      <th>1</th>\n",
       "      <td>4455</td>\n",
       "      <td>0</td>\n",
       "      <td>N/A</td>\n",
       "      <td>4455</td>\n",
       "    </tr>\n",
       "    <tr>\n",
       "      <th>2</th>\n",
       "      <td>989</td>\n",
       "      <td>0</td>\n",
       "      <td>N/A</td>\n",
       "      <td>989</td>\n",
       "    </tr>\n",
       "    <tr>\n",
       "      <th>3</th>\n",
       "      <td>4455</td>\n",
       "      <td>0</td>\n",
       "      <td>N/A</td>\n",
       "      <td>4455</td>\n",
       "    </tr>\n",
       "    <tr>\n",
       "      <th>4</th>\n",
       "      <td>4365</td>\n",
       "      <td>0</td>\n",
       "      <td>N/A</td>\n",
       "      <td>4365</td>\n",
       "    </tr>\n",
       "    <tr>\n",
       "      <th>...</th>\n",
       "      <td>...</td>\n",
       "      <td>...</td>\n",
       "      <td>...</td>\n",
       "      <td>...</td>\n",
       "    </tr>\n",
       "    <tr>\n",
       "      <th>19073</th>\n",
       "      <td>970</td>\n",
       "      <td>0</td>\n",
       "      <td>N/A</td>\n",
       "      <td>970</td>\n",
       "    </tr>\n",
       "    <tr>\n",
       "      <th>19074</th>\n",
       "      <td>980</td>\n",
       "      <td>0</td>\n",
       "      <td>N/A</td>\n",
       "      <td>980</td>\n",
       "    </tr>\n",
       "    <tr>\n",
       "      <th>19075</th>\n",
       "      <td>1950</td>\n",
       "      <td>0</td>\n",
       "      <td>N/A</td>\n",
       "      <td>1950</td>\n",
       "    </tr>\n",
       "    <tr>\n",
       "      <th>19076</th>\n",
       "      <td>4445</td>\n",
       "      <td>0</td>\n",
       "      <td>N/A</td>\n",
       "      <td>4445</td>\n",
       "    </tr>\n",
       "    <tr>\n",
       "      <th>19077</th>\n",
       "      <td>2390</td>\n",
       "      <td>0</td>\n",
       "      <td>N/A</td>\n",
       "      <td>2390</td>\n",
       "    </tr>\n",
       "  </tbody>\n",
       "</table>\n",
       "<p>20788 rows × 4 columns</p>\n",
       "</div>"
      ],
      "text/plain": [
       "         P3  Cash Discount Installment/month  Price After Cash Discount\n",
       "0       969              0               N/A                        969\n",
       "1      4455              0               N/A                       4455\n",
       "2       989              0               N/A                        989\n",
       "3      4455              0               N/A                       4455\n",
       "4      4365              0               N/A                       4365\n",
       "...     ...            ...               ...                        ...\n",
       "19073   970              0               N/A                        970\n",
       "19074   980              0               N/A                        980\n",
       "19075  1950              0               N/A                       1950\n",
       "19076  4445              0               N/A                       4445\n",
       "19077  2390              0               N/A                       2390\n",
       "\n",
       "[20788 rows x 4 columns]"
      ]
     },
     "execution_count": 6,
     "metadata": {},
     "output_type": "execute_result"
    }
   ],
   "source": [
    "extracted_cols = df['P3, Cash Discount, Installment/month'].str.extract(r'P3: (\\d*) THB, Cash: (\\.|\\d)* THB, Installment/month: (.*)')\n",
    "extracted_cols.columns = ['P3', 'Cash Discount', 'Installment/month']\n",
    "\n",
    "# Converting the columns to numeric types\n",
    "extracted_cols['P3'] = pd.to_numeric(extracted_cols['P3'])\n",
    "extracted_cols['Cash Discount'] = pd.to_numeric(extracted_cols['Cash Discount'])\n",
    "\n",
    "# Adding the new column \"price after cash discount\"\n",
    "extracted_cols['Price After Cash Discount'] = extracted_cols['P3'] - extracted_cols['Cash Discount']\n",
    "\n",
    "extracted_cols"
   ]
  },
  {
   "cell_type": "code",
   "execution_count": 7,
   "metadata": {},
   "outputs": [],
   "source": [
    "df.drop(columns=['Category Tags', 'Preview 1-10', 'Selling Point', 'Meta Keywords', 'Meta Description', 'Payment Booking Info', 'Brand Option in Thai Name', 'Brand Ranking (Position)'], inplace=True)"
   ]
  },
  {
   "cell_type": "code",
   "execution_count": 8,
   "metadata": {},
   "outputs": [
    {
     "data": {
      "text/plain": [
       "Index(['Name', 'Package Picture', 'URL', 'P3', 'Cash Discount',\n",
       "       'Installment/month', 'Price After Cash Discount', 'Installment Limit',\n",
       "       'Price to Reserve for This Package', 'Shop Name', 'Category', 'Brand',\n",
       "       'Min/Max Age',\n",
       "       'Locations, Time Open/Close, How to Transport, Parking, Google Maps',\n",
       "       'Price Details', 'Package Details', 'Important Info', 'General Info',\n",
       "       'Early Signs for Diagnosis', 'How to Diagnose', 'HDCare Summary',\n",
       "       'Common Question', 'Know This Disease', 'Courses of Action',\n",
       "       'Signals to Proceed Surgery', 'Get to Know This Surgery', 'Comparisons',\n",
       "       'Getting Ready', 'Recovery', 'Side Effects', 'Review 4-5 Stars', 'FAQ'],\n",
       "      dtype='object')"
      ]
     },
     "execution_count": 8,
     "metadata": {},
     "output_type": "execute_result"
    }
   ],
   "source": [
    "for i, col in enumerate(extracted_cols.columns):\n",
    "    df.insert(df.columns.get_loc('P3, Cash Discount, Installment/month') + 1 + i, col, extracted_cols[col])\n",
    "\n",
    "df.drop(columns=['P3, Cash Discount, Installment/month'], inplace=True)\n",
    "\n",
    "df['Installment/month'] = np.where(df['Installment/month'] == 'N/A', '', df['Installment/month'])\n",
    "\n",
    "df.columns"
   ]
  },
  {
   "cell_type": "code",
   "execution_count": 9,
   "metadata": {},
   "outputs": [
    {
     "name": "stdout",
     "output_type": "stream",
     "text": [
      "Name                                                                      0\n",
      "Package Picture                                                         730\n",
      "URL                                                                       0\n",
      "P3                                                                        0\n",
      "Cash Discount                                                             0\n",
      "Installment/month                                                         0\n",
      "Price After Cash Discount                                                 0\n",
      "Installment Limit                                                     20661\n",
      "Price to Reserve for This Package                                     17487\n",
      "Shop Name                                                                 0\n",
      "Category                                                                  0\n",
      "Brand                                                                     0\n",
      "Min/Max Age                                                           19965\n",
      "Locations, Time Open/Close, How to Transport, Parking, Google Maps      750\n",
      "Price Details                                                           968\n",
      "Package Details                                                        2814\n",
      "Important Info                                                        15252\n",
      "General Info                                                          12442\n",
      "Early Signs for Diagnosis                                             20581\n",
      "How to Diagnose                                                       20739\n",
      "HDCare Summary                                                        20680\n",
      "Common Question                                                       20627\n",
      "Know This Disease                                                     20633\n",
      "Courses of Action                                                     20659\n",
      "Signals to Proceed Surgery                                            20650\n",
      "Get to Know This Surgery                                              20580\n",
      "Comparisons                                                           20634\n",
      "Getting Ready                                                         20593\n",
      "Recovery                                                              20584\n",
      "Side Effects                                                          20595\n",
      "Review 4-5 Stars                                                      20738\n",
      "FAQ                                                                   19063\n",
      "dtype: int64\n"
     ]
    }
   ],
   "source": [
    "# Assuming your DataFrame is named df\n",
    "nan_counts = df.isna().sum()\n",
    "\n",
    "# Display the counts\n",
    "print(nan_counts)"
   ]
  },
  {
   "cell_type": "code",
   "execution_count": 10,
   "metadata": {},
   "outputs": [],
   "source": [
    "import re\n",
    "\n",
    "def clean_location_info(df, column_name):\n",
    "\n",
    "  patterns = [\n",
    "      r\"When to open:.+\\n\",\n",
    "      r\"Parking lot:.+\\n\",\n",
    "      r'How to transport:.+\\n',\n",
    "      r'Google Maps link: ',\n",
    "  ]\n",
    "  combined_pattern = \"|\".join(patterns)\n",
    "\n",
    "  # Handle non-string values before applying regex\n",
    "  def clean_value(x):\n",
    "    # Convert non-strings to strings (if possible)\n",
    "    if not pd.api.types.is_string_dtype(x):\n",
    "      x = str(x)  # Try converting to string\n",
    "    # Handle missing values (e.g., NaN)\n",
    "    if pd.isna(x):\n",
    "      x = \"\"  # Replace with an empty string for missing values\n",
    "    return re.sub(combined_pattern, '', x)\n",
    "\n",
    "  df[column_name] = df[column_name].apply(clean_value)\n",
    "  return df\n",
    "\n",
    "# Example usage\n",
    "cleaned_df = clean_location_info(df.copy(), \"Locations, Time Open/Close, How to Transport, Parking, Google Maps\")\n"
   ]
  },
  {
   "cell_type": "code",
   "execution_count": 11,
   "metadata": {},
   "outputs": [
    {
     "data": {
      "text/plain": [
       "Index(['package_name', 'package_picture', 'url', 'price', 'cash_discount',\n",
       "       'installment_month', 'price_after_cash_discount', 'installment_limit',\n",
       "       'price_to_reserve_for_this_package', 'shop_name', 'category', 'brand',\n",
       "       'min_max_age', 'locations', 'price_details', 'package_details',\n",
       "       'important_info', 'general_info', 'early_signs_for_diagnosis',\n",
       "       'how_to_diagnose', 'hdcare_summary', 'common_question',\n",
       "       'know_this_disease', 'courses_of_action', 'signals_to_proceed_surgery',\n",
       "       'get_to_know_this_surgery', 'comparisons', 'getting_ready', 'recovery',\n",
       "       'side_effects', 'review_4_5_stars', 'faq'],\n",
       "      dtype='object')"
      ]
     },
     "execution_count": 11,
     "metadata": {},
     "output_type": "execute_result"
    }
   ],
   "source": [
    "# Define the new column names in the order they should appear\n",
    "new_column_names = [\n",
    "    'package_name',\n",
    "    'package_picture',\n",
    "    'url',\n",
    "    'price',\n",
    "    'cash_discount',\n",
    "    'installment_month',\n",
    "    'price_after_cash_discount',\n",
    "    'installment_limit',\n",
    "    'price_to_reserve_for_this_package',\n",
    "    'shop_name',\n",
    "    'category',\n",
    "    'brand',\n",
    "    'min_max_age',\n",
    "    'locations',\n",
    "    'price_details',\n",
    "    'package_details',\n",
    "    'important_info',\n",
    "    'general_info',\n",
    "    'early_signs_for_diagnosis',\n",
    "    'how_to_diagnose',\n",
    "    'hdcare_summary',\n",
    "    'common_question',\n",
    "    'know_this_disease',\n",
    "    'courses_of_action',\n",
    "    'signals_to_proceed_surgery',\n",
    "    'get_to_know_this_surgery',\n",
    "    'comparisons',\n",
    "    'getting_ready',\n",
    "    'recovery',\n",
    "    'side_effects',\n",
    "    'review_4_5_stars',\n",
    "    'faq',\n",
    "]\n",
    "\n",
    "\n",
    "# Generate the column mapping\n",
    "current_columns = cleaned_df.columns.tolist()\n",
    "if len(current_columns) != len(new_column_names):\n",
    "    raise ValueError(\"The number of columns in the CSV does not match the number of new column names\")\n",
    "\n",
    "column_mapping = {current: new for current, new in zip(current_columns, new_column_names)}\n",
    "\n",
    "# Rename columns\n",
    "cleaned_df.rename(columns=column_mapping, inplace=True)\n",
    "\n",
    "cleaned_df.columns\n"
   ]
  },
  {
   "cell_type": "code",
   "execution_count": 12,
   "metadata": {},
   "outputs": [],
   "source": [
    "numerical_cols = cleaned_df.select_dtypes(include=['number']).columns\n",
    "cleaned_df[numerical_cols] = cleaned_df[numerical_cols].fillna(np.nan)\n",
    "\n",
    "# Replace price 0 with Nan\n",
    "cleaned_df['price'] = cleaned_df['price'].replace(0, np.nan)\n",
    "\n",
    "# For categorical columns, fill missing values with an empty string\n",
    "categorical_cols = cleaned_df.select_dtypes(include=['object']).columns\n",
    "cleaned_df[categorical_cols] = cleaned_df[categorical_cols].fillna(\"\")\n"
   ]
  },
  {
   "cell_type": "code",
   "execution_count": 13,
   "metadata": {},
   "outputs": [
    {
     "name": "stdout",
     "output_type": "stream",
     "text": [
      "package_name: 20788\n",
      "package_picture: 20788\n",
      "url: 20788\n",
      "price: 19957\n",
      "cash_discount: 20788\n",
      "installment_month: 20788\n",
      "price_after_cash_discount: 20788\n",
      "installment_limit: 20788\n",
      "price_to_reserve_for_this_package: 3301\n",
      "shop_name: 20788\n",
      "category: 20788\n",
      "brand: 20788\n",
      "min_max_age: 20788\n",
      "locations: 20788\n",
      "price_details: 20788\n",
      "package_details: 20788\n",
      "important_info: 20788\n",
      "general_info: 20788\n",
      "early_signs_for_diagnosis: 20788\n",
      "how_to_diagnose: 20788\n",
      "hdcare_summary: 20788\n",
      "common_question: 20788\n",
      "know_this_disease: 20788\n",
      "courses_of_action: 20788\n",
      "signals_to_proceed_surgery: 20788\n",
      "get_to_know_this_surgery: 20788\n",
      "comparisons: 20788\n",
      "getting_ready: 20788\n",
      "recovery: 20788\n",
      "side_effects: 20788\n",
      "review_4_5_stars: 20788\n",
      "faq: 20788\n"
     ]
    }
   ],
   "source": [
    "counts = cleaned_df.count()\n",
    "\n",
    "# Print column names and their respective counts\n",
    "for column, count in counts.items():\n",
    "    print(f\"{column}: {count}\")"
   ]
  },
  {
   "cell_type": "code",
   "execution_count": 14,
   "metadata": {},
   "outputs": [],
   "source": [
    "def to_csv(df, csv_path, start_row, end_row):\n",
    "    df.iloc[start_row:end_row].to_csv(csv_path, index=False,)\n",
    "    print(f\"{csv_path} created successfully!\")\n",
    "    return csv_path"
   ]
  },
  {
   "cell_type": "code",
   "execution_count": 15,
   "metadata": {},
   "outputs": [
    {
     "name": "stdout",
     "output_type": "stream",
     "text": [
      "packages.csv created successfully!\n"
     ]
    },
    {
     "data": {
      "text/plain": [
       "'packages.csv'"
      ]
     },
     "execution_count": 15,
     "metadata": {},
     "output_type": "execute_result"
    }
   ],
   "source": [
    "to_csv(cleaned_df, 'packages.csv', 0, None)"
   ]
  },
  {
   "cell_type": "code",
   "execution_count": null,
   "metadata": {},
   "outputs": [],
   "source": []
  }
 ],
 "metadata": {
  "kernelspec": {
   "display_name": ".venv",
   "language": "python",
   "name": "python3"
  },
  "language_info": {
   "codemirror_mode": {
    "name": "ipython",
    "version": 3
   },
   "file_extension": ".py",
   "mimetype": "text/x-python",
   "name": "python",
   "nbconvert_exporter": "python",
   "pygments_lexer": "ipython3",
   "version": "3.11.5"
  }
 },
 "nbformat": 4,
 "nbformat_minor": 2
}
