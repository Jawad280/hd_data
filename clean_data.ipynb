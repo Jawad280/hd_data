{
 "cells": [
  {
   "cell_type": "code",
   "execution_count": 137,
   "metadata": {},
   "outputs": [],
   "source": [
    "import pandas as pd\n",
    "import numpy as np"
   ]
  },
  {
   "cell_type": "code",
   "execution_count": 138,
   "metadata": {},
   "outputs": [],
   "source": [
    "df = pd.read_excel('azure-export-2024-08-01-00-01-38.xlsx')"
   ]
  },
  {
   "cell_type": "code",
   "execution_count": 139,
   "metadata": {},
   "outputs": [
    {
     "data": {
      "text/plain": [
       "(20593, 37)"
      ]
     },
     "execution_count": 139,
     "metadata": {},
     "output_type": "execute_result"
    }
   ],
   "source": [
    "df.shape"
   ]
  },
  {
   "cell_type": "code",
   "execution_count": 140,
   "metadata": {},
   "outputs": [
    {
     "data": {
      "text/plain": [
       "Index(['Name', 'Package Picture', 'URL',\n",
       "       'P3, Cash Discount, Installment/month', 'Installment Limit',\n",
       "       'Price to Reserve for This Package', 'Shop Name', 'Category',\n",
       "       'Category Tags', 'Preview 1-10', 'Selling Point', 'Meta Keywords',\n",
       "       'Brand', 'Min/Max Age',\n",
       "       'Locations, Time Open/Close, How to Transport, Parking, Google Maps',\n",
       "       'Meta Description', 'Price Details', 'Package Details',\n",
       "       'Important Info', 'Payment Booking Info', 'General Info',\n",
       "       'Early Signs for Diagnosis', 'How to Diagnose', 'HDCare Summary',\n",
       "       'Common Question', 'Know This Disease', 'Courses of Action',\n",
       "       'Signals to Proceed Surgery', 'Get to Know This Surgery', 'Comparisons',\n",
       "       'Getting Ready', 'Recovery', 'Side Effects', 'Review 4-5 Stars',\n",
       "       'Brand Option in Thai Name', 'Brand Ranking (Position)', 'FAQ'],\n",
       "      dtype='object')"
      ]
     },
     "execution_count": 140,
     "metadata": {},
     "output_type": "execute_result"
    }
   ],
   "source": [
    "df.columns"
   ]
  },
  {
   "cell_type": "code",
   "execution_count": 141,
   "metadata": {},
   "outputs": [
    {
     "data": {
      "text/plain": [
       "'P3: 969 THB, Cash: 969.0 THB, Installment/month: N/A'"
      ]
     },
     "execution_count": 141,
     "metadata": {},
     "output_type": "execute_result"
    }
   ],
   "source": [
    "df['P3, Cash Discount, Installment/month'][0]"
   ]
  },
  {
   "cell_type": "code",
   "execution_count": 142,
   "metadata": {},
   "outputs": [
    {
     "data": {
      "text/html": [
       "<div>\n",
       "<style scoped>\n",
       "    .dataframe tbody tr th:only-of-type {\n",
       "        vertical-align: middle;\n",
       "    }\n",
       "\n",
       "    .dataframe tbody tr th {\n",
       "        vertical-align: top;\n",
       "    }\n",
       "\n",
       "    .dataframe thead th {\n",
       "        text-align: right;\n",
       "    }\n",
       "</style>\n",
       "<table border=\"1\" class=\"dataframe\">\n",
       "  <thead>\n",
       "    <tr style=\"text-align: right;\">\n",
       "      <th></th>\n",
       "      <th>P3</th>\n",
       "      <th>Cash Discount</th>\n",
       "      <th>Installment/month</th>\n",
       "      <th>Price After Cash Discount</th>\n",
       "    </tr>\n",
       "  </thead>\n",
       "  <tbody>\n",
       "    <tr>\n",
       "      <th>0</th>\n",
       "      <td>969</td>\n",
       "      <td>0</td>\n",
       "      <td>N/A</td>\n",
       "      <td>969</td>\n",
       "    </tr>\n",
       "    <tr>\n",
       "      <th>1</th>\n",
       "      <td>4455</td>\n",
       "      <td>0</td>\n",
       "      <td>N/A</td>\n",
       "      <td>4455</td>\n",
       "    </tr>\n",
       "    <tr>\n",
       "      <th>2</th>\n",
       "      <td>989</td>\n",
       "      <td>0</td>\n",
       "      <td>N/A</td>\n",
       "      <td>989</td>\n",
       "    </tr>\n",
       "    <tr>\n",
       "      <th>3</th>\n",
       "      <td>4455</td>\n",
       "      <td>0</td>\n",
       "      <td>N/A</td>\n",
       "      <td>4455</td>\n",
       "    </tr>\n",
       "    <tr>\n",
       "      <th>4</th>\n",
       "      <td>4365</td>\n",
       "      <td>0</td>\n",
       "      <td>N/A</td>\n",
       "      <td>4365</td>\n",
       "    </tr>\n",
       "    <tr>\n",
       "      <th>...</th>\n",
       "      <td>...</td>\n",
       "      <td>...</td>\n",
       "      <td>...</td>\n",
       "      <td>...</td>\n",
       "    </tr>\n",
       "    <tr>\n",
       "      <th>20588</th>\n",
       "      <td>8549</td>\n",
       "      <td>0</td>\n",
       "      <td>N/A</td>\n",
       "      <td>8549</td>\n",
       "    </tr>\n",
       "    <tr>\n",
       "      <th>20589</th>\n",
       "      <td>3799</td>\n",
       "      <td>0</td>\n",
       "      <td>N/A</td>\n",
       "      <td>3799</td>\n",
       "    </tr>\n",
       "    <tr>\n",
       "      <th>20590</th>\n",
       "      <td>44555</td>\n",
       "      <td>0</td>\n",
       "      <td>N/A</td>\n",
       "      <td>44555</td>\n",
       "    </tr>\n",
       "    <tr>\n",
       "      <th>20591</th>\n",
       "      <td>48355</td>\n",
       "      <td>0</td>\n",
       "      <td>N/A</td>\n",
       "      <td>48355</td>\n",
       "    </tr>\n",
       "    <tr>\n",
       "      <th>20592</th>\n",
       "      <td>56000</td>\n",
       "      <td>0</td>\n",
       "      <td>N/A</td>\n",
       "      <td>56000</td>\n",
       "    </tr>\n",
       "  </tbody>\n",
       "</table>\n",
       "<p>20593 rows × 4 columns</p>\n",
       "</div>"
      ],
      "text/plain": [
       "          P3  Cash Discount Installment/month  Price After Cash Discount\n",
       "0        969              0               N/A                        969\n",
       "1       4455              0               N/A                       4455\n",
       "2        989              0               N/A                        989\n",
       "3       4455              0               N/A                       4455\n",
       "4       4365              0               N/A                       4365\n",
       "...      ...            ...               ...                        ...\n",
       "20588   8549              0               N/A                       8549\n",
       "20589   3799              0               N/A                       3799\n",
       "20590  44555              0               N/A                      44555\n",
       "20591  48355              0               N/A                      48355\n",
       "20592  56000              0               N/A                      56000\n",
       "\n",
       "[20593 rows x 4 columns]"
      ]
     },
     "execution_count": 142,
     "metadata": {},
     "output_type": "execute_result"
    }
   ],
   "source": [
    "extracted_cols = df['P3, Cash Discount, Installment/month'].str.extract(r'P3: (\\d*) THB, Cash: (\\.|\\d)* THB, Installment/month: (.*)')\n",
    "extracted_cols.columns = ['P3', 'Cash Discount', 'Installment/month']\n",
    "\n",
    "# Converting the columns to numeric types\n",
    "extracted_cols['P3'] = pd.to_numeric(extracted_cols['P3'])\n",
    "extracted_cols['Cash Discount'] = pd.to_numeric(extracted_cols['Cash Discount'])\n",
    "\n",
    "# Adding the new column \"price after cash discount\"\n",
    "extracted_cols['Price After Cash Discount'] = extracted_cols['P3'] - extracted_cols['Cash Discount']\n",
    "\n",
    "extracted_cols"
   ]
  },
  {
   "cell_type": "code",
   "execution_count": 143,
   "metadata": {},
   "outputs": [],
   "source": [
    "df.drop(columns=['Category Tags', 'Preview 1-10', 'Selling Point', 'Meta Keywords', 'Meta Description', 'Payment Booking Info', 'Brand Option in Thai Name', 'Brand Ranking (Position)'], inplace=True)"
   ]
  },
  {
   "cell_type": "code",
   "execution_count": 144,
   "metadata": {},
   "outputs": [
    {
     "data": {
      "text/plain": [
       "Index(['Name', 'Package Picture', 'URL', 'P3', 'Cash Discount',\n",
       "       'Installment/month', 'Price After Cash Discount', 'Installment Limit',\n",
       "       'Price to Reserve for This Package', 'Shop Name', 'Category', 'Brand',\n",
       "       'Min/Max Age',\n",
       "       'Locations, Time Open/Close, How to Transport, Parking, Google Maps',\n",
       "       'Price Details', 'Package Details', 'Important Info', 'General Info',\n",
       "       'Early Signs for Diagnosis', 'How to Diagnose', 'HDCare Summary',\n",
       "       'Common Question', 'Know This Disease', 'Courses of Action',\n",
       "       'Signals to Proceed Surgery', 'Get to Know This Surgery', 'Comparisons',\n",
       "       'Getting Ready', 'Recovery', 'Side Effects', 'Review 4-5 Stars', 'FAQ'],\n",
       "      dtype='object')"
      ]
     },
     "execution_count": 144,
     "metadata": {},
     "output_type": "execute_result"
    }
   ],
   "source": [
    "for i, col in enumerate(extracted_cols.columns):\n",
    "    df.insert(df.columns.get_loc('P3, Cash Discount, Installment/month') + 1 + i, col, extracted_cols[col])\n",
    "\n",
    "df.drop(columns=['P3, Cash Discount, Installment/month'], inplace=True)\n",
    "\n",
    "df['Installment/month'] = np.where(df['Installment/month'] == 'N/A', '', df['Installment/month'])\n",
    "\n",
    "df.columns"
   ]
  },
  {
   "cell_type": "code",
   "execution_count": 145,
   "metadata": {},
   "outputs": [
    {
     "name": "stdout",
     "output_type": "stream",
     "text": [
      "Name                                                                      0\n",
      "Package Picture                                                         739\n",
      "URL                                                                       0\n",
      "P3                                                                        0\n",
      "Cash Discount                                                             0\n",
      "Installment/month                                                         0\n",
      "Price After Cash Discount                                                 0\n",
      "Installment Limit                                                     20461\n",
      "Price to Reserve for This Package                                     17290\n",
      "Shop Name                                                                 0\n",
      "Category                                                                  0\n",
      "Brand                                                                     0\n",
      "Min/Max Age                                                           20538\n",
      "Locations, Time Open/Close, How to Transport, Parking, Google Maps      790\n",
      "Price Details                                                           973\n",
      "Package Details                                                        1268\n",
      "Important Info                                                        14844\n",
      "General Info                                                          11953\n",
      "Early Signs for Diagnosis                                             20378\n",
      "How to Diagnose                                                       20544\n",
      "HDCare Summary                                                        20482\n",
      "Common Question                                                       20427\n",
      "Know This Disease                                                     20433\n",
      "Courses of Action                                                     20459\n",
      "Signals to Proceed Surgery                                            20456\n",
      "Get to Know This Surgery                                              20380\n",
      "Comparisons                                                           20435\n",
      "Getting Ready                                                         20394\n",
      "Recovery                                                              20385\n",
      "Side Effects                                                          20396\n",
      "Review 4-5 Stars                                                      20548\n",
      "FAQ                                                                   18821\n",
      "dtype: int64\n"
     ]
    }
   ],
   "source": [
    "# Assuming your DataFrame is named df\n",
    "nan_counts = df.isna().sum()\n",
    "\n",
    "# Display the counts\n",
    "print(nan_counts)"
   ]
  },
  {
   "cell_type": "code",
   "execution_count": 146,
   "metadata": {},
   "outputs": [],
   "source": [
    "import re\n",
    "\n",
    "def clean_location_info(df, column_name):\n",
    "\n",
    "  patterns = [\n",
    "      r\"When to open:.+\\n\",\n",
    "      r\"Parking lot:.+\\n\",\n",
    "      r'How to transport:.+\\n',\n",
    "      r'Google Maps link: ',\n",
    "  ]\n",
    "  combined_pattern = \"|\".join(patterns)\n",
    "\n",
    "  # Handle non-string values before applying regex\n",
    "  def clean_value(x):\n",
    "    # Convert non-strings to strings (if possible)\n",
    "    if not pd.api.types.is_string_dtype(x):\n",
    "      x = str(x)  # Try converting to string\n",
    "    # Handle missing values (e.g., NaN)\n",
    "    if pd.isna(x):\n",
    "      x = \"\"  # Replace with an empty string for missing values\n",
    "    return re.sub(combined_pattern, '', x)\n",
    "\n",
    "  df[column_name] = df[column_name].apply(clean_value)\n",
    "  return df\n",
    "\n",
    "# Example usage\n",
    "cleaned_df = clean_location_info(df.copy(), \"Locations, Time Open/Close, How to Transport, Parking, Google Maps\")\n"
   ]
  },
  {
   "cell_type": "code",
   "execution_count": 147,
   "metadata": {},
   "outputs": [
    {
     "data": {
      "text/plain": [
       "Index(['package_name', 'package_picture', 'url', 'price', 'cash_discount',\n",
       "       'installment_month', 'price_after_cash_discount', 'installment_limit',\n",
       "       'price_to_reserve_for_this_package', 'shop_name', 'category', 'brand',\n",
       "       'min_max_age', 'locations', 'price_details', 'package_details',\n",
       "       'important_info', 'general_info', 'early_signs_for_diagnosis',\n",
       "       'how_to_diagnose', 'hdcare_summary', 'common_question',\n",
       "       'know_this_disease', 'courses_of_action', 'signals_to_proceed_surgery',\n",
       "       'get_to_know_this_surgery', 'comparisons', 'getting_ready', 'recovery',\n",
       "       'side_effects', 'review_4_5_stars', 'faq'],\n",
       "      dtype='object')"
      ]
     },
     "execution_count": 147,
     "metadata": {},
     "output_type": "execute_result"
    }
   ],
   "source": [
    "# Define the new column names in the order they should appear\n",
    "new_column_names = [\n",
    "    'package_name',\n",
    "    'package_picture',\n",
    "    'url',\n",
    "    'price',\n",
    "    'cash_discount',\n",
    "    'installment_month',\n",
    "    'price_after_cash_discount',\n",
    "    'installment_limit',\n",
    "    'price_to_reserve_for_this_package',\n",
    "    'shop_name',\n",
    "    'category',\n",
    "    'brand',\n",
    "    'min_max_age',\n",
    "    'locations',\n",
    "    'price_details',\n",
    "    'package_details',\n",
    "    'important_info',\n",
    "    'general_info',\n",
    "    'early_signs_for_diagnosis',\n",
    "    'how_to_diagnose',\n",
    "    'hdcare_summary',\n",
    "    'common_question',\n",
    "    'know_this_disease',\n",
    "    'courses_of_action',\n",
    "    'signals_to_proceed_surgery',\n",
    "    'get_to_know_this_surgery',\n",
    "    'comparisons',\n",
    "    'getting_ready',\n",
    "    'recovery',\n",
    "    'side_effects',\n",
    "    'review_4_5_stars',\n",
    "    'faq',\n",
    "]\n",
    "\n",
    "\n",
    "# Generate the column mapping\n",
    "current_columns = cleaned_df.columns.tolist()\n",
    "if len(current_columns) != len(new_column_names):\n",
    "    raise ValueError(\"The number of columns in the CSV does not match the number of new column names\")\n",
    "\n",
    "column_mapping = {current: new for current, new in zip(current_columns, new_column_names)}\n",
    "\n",
    "# Rename columns\n",
    "cleaned_df.rename(columns=column_mapping, inplace=True)\n",
    "\n",
    "cleaned_df.columns\n"
   ]
  },
  {
   "cell_type": "code",
   "execution_count": 148,
   "metadata": {},
   "outputs": [],
   "source": [
    "numerical_cols = cleaned_df.select_dtypes(include=['number']).columns\n",
    "cleaned_df[numerical_cols] = cleaned_df[numerical_cols].fillna(np.nan)\n",
    "\n",
    "# Replace price 0 with Nan\n",
    "cleaned_df['price'] = cleaned_df['price'].replace(0, np.nan)\n",
    "\n",
    "# For categorical columns, fill missing values with an empty string\n",
    "categorical_cols = cleaned_df.select_dtypes(include=['object']).columns\n",
    "cleaned_df[categorical_cols] = cleaned_df[categorical_cols].fillna(\"\")\n"
   ]
  },
  {
   "cell_type": "code",
   "execution_count": 149,
   "metadata": {},
   "outputs": [],
   "source": [
    "def to_csv(df, csv_path, start_row, end_row):\n",
    "    df.iloc[start_row:end_row].to_csv(csv_path, index=False,)\n",
    "    print(f\"{csv_path} created successfully!\")\n",
    "    return csv_path"
   ]
  },
  {
   "cell_type": "code",
   "execution_count": 150,
   "metadata": {},
   "outputs": [],
   "source": [
    "test_df = cleaned_df[:100]"
   ]
  },
  {
   "cell_type": "code",
   "execution_count": 151,
   "metadata": {},
   "outputs": [
    {
     "name": "stdout",
     "output_type": "stream",
     "text": [
      "packages.csv created successfully!\n"
     ]
    },
    {
     "data": {
      "text/plain": [
       "'packages.csv'"
      ]
     },
     "execution_count": 151,
     "metadata": {},
     "output_type": "execute_result"
    }
   ],
   "source": [
    "to_csv(cleaned_df, 'packages.csv', 0, None)"
   ]
  },
  {
   "cell_type": "code",
   "execution_count": null,
   "metadata": {},
   "outputs": [],
   "source": []
  }
 ],
 "metadata": {
  "kernelspec": {
   "display_name": "base",
   "language": "python",
   "name": "python3"
  },
  "language_info": {
   "codemirror_mode": {
    "name": "ipython",
    "version": 3
   },
   "file_extension": ".py",
   "mimetype": "text/x-python",
   "name": "python",
   "nbconvert_exporter": "python",
   "pygments_lexer": "ipython3",
   "version": "3.11.5"
  }
 },
 "nbformat": 4,
 "nbformat_minor": 2
}
